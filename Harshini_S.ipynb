{
  "nbformat": 4,
  "nbformat_minor": 0,
  "metadata": {
    "colab": {
      "name": "Harshini_S.ipynb",
      "provenance": []
    },
    "kernelspec": {
      "name": "python3",
      "display_name": "Python 3"
    },
    "language_info": {
      "name": "python"
    }
  },
  "cells": [
    {
      "cell_type": "code",
      "metadata": {
        "colab": {
          "base_uri": "https://localhost:8080/"
        },
        "id": "frRa0ml3Ny1e",
        "outputId": "bd23a0bd-25e8-4c79-bc9d-b3bfe04d3729"
      },
      "source": [
        "from keras.datasets import mnist\n",
        "\n",
        "data = mnist.load_data()"
      ],
      "execution_count": 1,
      "outputs": [
        {
          "output_type": "stream",
          "text": [
            "Downloading data from https://storage.googleapis.com/tensorflow/tf-keras-datasets/mnist.npz\n",
            "11493376/11490434 [==============================] - 0s 0us/step\n"
          ],
          "name": "stdout"
        }
      ]
    },
    {
      "cell_type": "code",
      "metadata": {
        "id": "gHJ2jIW4N7OY"
      },
      "source": [
        "((X_train, y_train), (X_test,y_test)) = data"
      ],
      "execution_count": 2,
      "outputs": []
    },
    {
      "cell_type": "code",
      "metadata": {
        "id": "cKcwzAPDOB0F"
      },
      "source": [
        "X_train = X_train.reshape((X_train.shape[0], 28*28)).astype('float32')\n",
        "X_test = X_test.reshape((X_test.shape[0], 28*28)).astype('float32')"
      ],
      "execution_count": 3,
      "outputs": []
    },
    {
      "cell_type": "code",
      "metadata": {
        "id": "DXNcW6chOGaO"
      },
      "source": [
        "X_train = X_train / 255\n",
        "X_test = X_test / 255"
      ],
      "execution_count": 4,
      "outputs": []
    },
    {
      "cell_type": "code",
      "metadata": {
        "colab": {
          "base_uri": "https://localhost:8080/"
        },
        "id": "TkOvAIdeOLA_",
        "outputId": "fb3a5305-b4b1-4f36-db9f-6dbab166111f"
      },
      "source": [
        "from keras.utils import np_utils\n",
        "\n",
        "print(y_test.shape)\n",
        "\n",
        "y_train = np_utils.to_categorical(y_train)\n",
        "y_test = np_utils.to_categorical(y_test)\n",
        "\n",
        "num_classes = y_test.shape[1]\n",
        "print(y_test.shape)"
      ],
      "execution_count": 5,
      "outputs": [
        {
          "output_type": "stream",
          "text": [
            "(10000,)\n",
            "(10000, 10)\n"
          ],
          "name": "stdout"
        }
      ]
    },
    {
      "cell_type": "code",
      "metadata": {
        "id": "ydN3ZLLoOPqM"
      },
      "source": [
        "from keras.models import Sequential\n",
        "from keras.layers import Dense"
      ],
      "execution_count": 6,
      "outputs": []
    },
    {
      "cell_type": "code",
      "metadata": {
        "id": "ShbNA6ymOUYk"
      },
      "source": [
        "model = Sequential()\n",
        "model.add(Dense(32,input_dim = 28*28, activation = 'relu'))\n",
        "model.add(Dense(64, activation= 'relu'))\n",
        "model.add(Dense(10, activation= 'softmax'))"
      ],
      "execution_count": 7,
      "outputs": []
    },
    {
      "cell_type": "code",
      "metadata": {
        "id": "7cYld3uPOZUs"
      },
      "source": [
        "model.compile(loss='categorical_crossentropy', optimizer='adam', metrics=['accuracy'])"
      ],
      "execution_count": 8,
      "outputs": []
    },
    {
      "cell_type": "code",
      "metadata": {
        "colab": {
          "base_uri": "https://localhost:8080/"
        },
        "id": "2hQLnUquOxDQ",
        "outputId": "825d8ae6-1dbb-4a81-ab42-42129548f34b"
      },
      "source": [
        "model.summary()"
      ],
      "execution_count": 9,
      "outputs": [
        {
          "output_type": "stream",
          "text": [
            "Model: \"sequential\"\n",
            "_________________________________________________________________\n",
            "Layer (type)                 Output Shape              Param #   \n",
            "=================================================================\n",
            "dense (Dense)                (None, 32)                25120     \n",
            "_________________________________________________________________\n",
            "dense_1 (Dense)              (None, 64)                2112      \n",
            "_________________________________________________________________\n",
            "dense_2 (Dense)              (None, 10)                650       \n",
            "=================================================================\n",
            "Total params: 27,882\n",
            "Trainable params: 27,882\n",
            "Non-trainable params: 0\n",
            "_________________________________________________________________\n"
          ],
          "name": "stdout"
        }
      ]
    },
    {
      "cell_type": "code",
      "metadata": {
        "colab": {
          "base_uri": "https://localhost:8080/"
        },
        "id": "FQZ-x8f9O4wj",
        "outputId": "0b79085a-ff27-497b-9ddb-8a6ebb2b1d34"
      },
      "source": [
        "model.fit(X_train, y_train, epochs=10, batch_size=100)"
      ],
      "execution_count": 10,
      "outputs": [
        {
          "output_type": "stream",
          "text": [
            "Epoch 1/10\n",
            "600/600 [==============================] - 1s 1ms/step - loss: 0.7317 - accuracy: 0.7979\n",
            "Epoch 2/10\n",
            "600/600 [==============================] - 1s 1ms/step - loss: 0.2044 - accuracy: 0.9400\n",
            "Epoch 3/10\n",
            "600/600 [==============================] - 1s 1ms/step - loss: 0.1530 - accuracy: 0.9540\n",
            "Epoch 4/10\n",
            "600/600 [==============================] - 1s 1ms/step - loss: 0.1288 - accuracy: 0.9626\n",
            "Epoch 5/10\n",
            "600/600 [==============================] - 1s 1ms/step - loss: 0.1086 - accuracy: 0.9684\n",
            "Epoch 6/10\n",
            "600/600 [==============================] - 1s 1ms/step - loss: 0.0938 - accuracy: 0.9723\n",
            "Epoch 7/10\n",
            "600/600 [==============================] - 1s 1ms/step - loss: 0.0820 - accuracy: 0.9752\n",
            "Epoch 8/10\n",
            "600/600 [==============================] - 1s 1ms/step - loss: 0.0748 - accuracy: 0.9778\n",
            "Epoch 9/10\n",
            "600/600 [==============================] - 1s 1ms/step - loss: 0.0642 - accuracy: 0.9803\n",
            "Epoch 10/10\n",
            "600/600 [==============================] - 1s 1ms/step - loss: 0.0626 - accuracy: 0.9807\n"
          ],
          "name": "stdout"
        },
        {
          "output_type": "execute_result",
          "data": {
            "text/plain": [
              "<tensorflow.python.keras.callbacks.History at 0x7fe82d57d850>"
            ]
          },
          "metadata": {
            "tags": []
          },
          "execution_count": 10
        }
      ]
    },
    {
      "cell_type": "code",
      "metadata": {
        "colab": {
          "base_uri": "https://localhost:8080/"
        },
        "id": "HXA2zQbmPGFB",
        "outputId": "53c0fbb6-acb3-45dc-ea7f-2e3eeac75da1"
      },
      "source": [
        "scores = model.evaluate(X_test, y_test)\n",
        "print(scores)"
      ],
      "execution_count": 11,
      "outputs": [
        {
          "output_type": "stream",
          "text": [
            "313/313 [==============================] - 0s 631us/step - loss: 0.0967 - accuracy: 0.9715\n",
            "[0.09673371911048889, 0.9714999794960022]\n"
          ],
          "name": "stdout"
        }
      ]
    }
  ]
}